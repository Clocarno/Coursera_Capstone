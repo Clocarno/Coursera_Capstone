{
  "nbformat": 4,
  "nbformat_minor": 0,
  "metadata": {
    "colab": {
      "name": "Untitled6.ipynb",
      "provenance": [],
      "collapsed_sections": []
    },
    "kernelspec": {
      "name": "python3",
      "display_name": "Python 3"
    },
    "language_info": {
      "name": "python"
    }
  },
  "cells": [
    {
      "cell_type": "markdown",
      "metadata": {
        "id": "C_rRkDwyDJ-a"
      },
      "source": [
        "**Problem**\n",
        "\n",
        "I am interested in opening a restaurant in the city of Barrnaquilla. For this I have decided to open it in the area of the city where there are more restaurants.\n",
        "Therefore the problem is to determine where there are more restaurants concentrated in the city.\n",
        "\n",
        "\n",
        "\n"
      ]
    },
    {
      "cell_type": "markdown",
      "metadata": {
        "id": "nxQ_uP1IEXXv"
      },
      "source": [
        "**DATA**\n",
        "\n"
      ]
    },
    {
      "cell_type": "markdown",
      "metadata": {
        "id": "46H_iIS5EaSv"
      },
      "source": [
        "For this problem I used the longitude and latitude for Barranquilla city which was consulted in https://es.db-city.com/Colombia--Atl%C3%A1ntico--Barranquilla"
      ]
    }
  ]
}