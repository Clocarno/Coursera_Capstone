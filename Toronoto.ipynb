{
  "nbformat": 4,
  "nbformat_minor": 0,
  "metadata": {
    "colab": {
      "name": "Untitled2.ipynb",
      "provenance": [],
      "collapsed_sections": []
    },
    "kernelspec": {
      "name": "python3",
      "display_name": "Python 3"
    },
    "language_info": {
      "name": "python"
    }
  },
  "cells": [
    {
      "cell_type": "markdown",
      "metadata": {
        "id": "XRpbH2ZtcxYk"
      },
      "source": [
        "**Import libraries**"
      ]
    },
    {
      "cell_type": "code",
      "metadata": {
        "colab": {
          "base_uri": "https://localhost:8080/"
        },
        "id": "c5Cq51LBYZI-",
        "outputId": "c824247b-b592-4068-a4f7-4f152dbdfac5"
      },
      "source": [
        "import numpy as np # library to handle data in a vectorized manner\n",
        "\n",
        "import pandas as pd # library for data analsysis\n",
        "pd.set_option('display.max_columns', None)\n",
        "pd.set_option('display.max_rows', None)\n",
        "\n",
        "import json # library to handle JSON files\n",
        "\n",
        "#!conda install -c conda-forge geopy --yes # uncomment this line if you haven't completed the Foursquare API lab\n",
        "from geopy.geocoders import Nominatim # convert an address into latitude and longitude values\n",
        "\n",
        "import requests # library to handle requests\n",
        "from pandas.io.json import json_normalize # tranform JSON file into a pandas dataframe\n",
        "\n",
        "# Matplotlib and associated plotting modules\n",
        "import matplotlib.cm as cm\n",
        "import matplotlib.colors as colors\n",
        "\n",
        "# import k-means from clustering stage\n",
        "from sklearn.cluster import KMeans\n",
        "\n",
        "#!conda install -c conda-forge folium=0.5.0 --yes # uncomment this line if you haven't completed the Foursquare API lab\n",
        "import folium # map rendering library\n",
        "\n",
        "print('Libraries imported.')"
      ],
      "execution_count": 1,
      "outputs": [
        {
          "output_type": "stream",
          "text": [
            "Libraries imported.\n"
          ],
          "name": "stdout"
        }
      ]
    },
    {
      "cell_type": "markdown",
      "metadata": {
        "id": "U3RnQlYJcsRv"
      },
      "source": [
        "**Getting  table from Wikipedia**"
      ]
    },
    {
      "cell_type": "code",
      "metadata": {
        "colab": {
          "base_uri": "https://localhost:8080/"
        },
        "id": "H4nqynzcYqp8",
        "outputId": "5e775e90-d201-45ff-86bb-7ea3d756e04d"
      },
      "source": [
        "dfs = pd.read_html('https://en.wikipedia.org/wiki/List_of_postal_codes_of_Canada:_M')\n",
        "len(dfs)"
      ],
      "execution_count": 2,
      "outputs": [
        {
          "output_type": "execute_result",
          "data": {
            "text/plain": [
              "3"
            ]
          },
          "metadata": {
            "tags": []
          },
          "execution_count": 2
        }
      ]
    },
    {
      "cell_type": "code",
      "metadata": {
        "colab": {
          "base_uri": "https://localhost:8080/",
          "height": 289
        },
        "id": "oZNdL5zxccw-",
        "outputId": "48ff9b70-f3fb-4b2f-8bb7-c82a428ea9b2"
      },
      "source": [
        "wikipediaTable = dfs[0]\n",
        "wikipediaTable.head()"
      ],
      "execution_count": 7,
      "outputs": [
        {
          "output_type": "execute_result",
          "data": {
            "text/html": [
              "<div>\n",
              "<style scoped>\n",
              "    .dataframe tbody tr th:only-of-type {\n",
              "        vertical-align: middle;\n",
              "    }\n",
              "\n",
              "    .dataframe tbody tr th {\n",
              "        vertical-align: top;\n",
              "    }\n",
              "\n",
              "    .dataframe thead th {\n",
              "        text-align: right;\n",
              "    }\n",
              "</style>\n",
              "<table border=\"1\" class=\"dataframe\">\n",
              "  <thead>\n",
              "    <tr style=\"text-align: right;\">\n",
              "      <th></th>\n",
              "      <th>0</th>\n",
              "      <th>1</th>\n",
              "      <th>2</th>\n",
              "      <th>3</th>\n",
              "      <th>4</th>\n",
              "      <th>5</th>\n",
              "      <th>6</th>\n",
              "      <th>7</th>\n",
              "      <th>8</th>\n",
              "    </tr>\n",
              "  </thead>\n",
              "  <tbody>\n",
              "    <tr>\n",
              "      <th>0</th>\n",
              "      <td>M1ANot assigned</td>\n",
              "      <td>M2ANot assigned</td>\n",
              "      <td>M3ANorth York(Parkwoods)</td>\n",
              "      <td>M4ANorth York(Victoria Village)</td>\n",
              "      <td>M5ADowntown Toronto(Regent Park / Harbourfront)</td>\n",
              "      <td>M6ANorth York(Lawrence Manor / Lawrence Heights)</td>\n",
              "      <td>M7AQueen's Park(Ontario Provincial Government)</td>\n",
              "      <td>M8ANot assigned</td>\n",
              "      <td>M9AEtobicoke(Islington Avenue)</td>\n",
              "    </tr>\n",
              "    <tr>\n",
              "      <th>1</th>\n",
              "      <td>M1BScarborough(Malvern / Rouge)</td>\n",
              "      <td>M2BNot assigned</td>\n",
              "      <td>M3BNorth York(Don Mills)North</td>\n",
              "      <td>M4BEast York(Parkview Hill / Woodbine Gardens)</td>\n",
              "      <td>M5BDowntown Toronto(Garden District, Ryerson)</td>\n",
              "      <td>M6BNorth York(Glencairn)</td>\n",
              "      <td>M7BNot assigned</td>\n",
              "      <td>M8BNot assigned</td>\n",
              "      <td>M9BEtobicoke(West Deane Park / Princess Garden...</td>\n",
              "    </tr>\n",
              "    <tr>\n",
              "      <th>2</th>\n",
              "      <td>M1CScarborough(Rouge Hill / Port Union / Highl...</td>\n",
              "      <td>M2CNot assigned</td>\n",
              "      <td>M3CNorth York(Don Mills)South(Flemingdon Park)</td>\n",
              "      <td>M4CEast York(Woodbine Heights)</td>\n",
              "      <td>M5CDowntown Toronto(St. James Town)</td>\n",
              "      <td>M6CYork(Humewood-Cedarvale)</td>\n",
              "      <td>M7CNot assigned</td>\n",
              "      <td>M8CNot assigned</td>\n",
              "      <td>M9CEtobicoke(Eringate / Bloordale Gardens / Ol...</td>\n",
              "    </tr>\n",
              "    <tr>\n",
              "      <th>3</th>\n",
              "      <td>M1EScarborough(Guildwood / Morningside / West ...</td>\n",
              "      <td>M2ENot assigned</td>\n",
              "      <td>M3ENot assigned</td>\n",
              "      <td>M4EEast Toronto(The Beaches)</td>\n",
              "      <td>M5EDowntown Toronto(Berczy Park)</td>\n",
              "      <td>M6EYork(Caledonia-Fairbanks)</td>\n",
              "      <td>M7ENot assigned</td>\n",
              "      <td>M8ENot assigned</td>\n",
              "      <td>M9ENot assigned</td>\n",
              "    </tr>\n",
              "    <tr>\n",
              "      <th>4</th>\n",
              "      <td>M1GScarborough(Woburn)</td>\n",
              "      <td>M2GNot assigned</td>\n",
              "      <td>M3GNot assigned</td>\n",
              "      <td>M4GEast York(Leaside)</td>\n",
              "      <td>M5GDowntown Toronto(Central Bay Street)</td>\n",
              "      <td>M6GDowntown Toronto(Christie)</td>\n",
              "      <td>M7GNot assigned</td>\n",
              "      <td>M8GNot assigned</td>\n",
              "      <td>M9GNot assigned</td>\n",
              "    </tr>\n",
              "  </tbody>\n",
              "</table>\n",
              "</div>"
            ],
            "text/plain": [
              "                                                   0                1  \\\n",
              "0                                    M1ANot assigned  M2ANot assigned   \n",
              "1                    M1BScarborough(Malvern / Rouge)  M2BNot assigned   \n",
              "2  M1CScarborough(Rouge Hill / Port Union / Highl...  M2CNot assigned   \n",
              "3  M1EScarborough(Guildwood / Morningside / West ...  M2ENot assigned   \n",
              "4                             M1GScarborough(Woburn)  M2GNot assigned   \n",
              "\n",
              "                                                2  \\\n",
              "0                        M3ANorth York(Parkwoods)   \n",
              "1                   M3BNorth York(Don Mills)North   \n",
              "2  M3CNorth York(Don Mills)South(Flemingdon Park)   \n",
              "3                                 M3ENot assigned   \n",
              "4                                 M3GNot assigned   \n",
              "\n",
              "                                                3  \\\n",
              "0                 M4ANorth York(Victoria Village)   \n",
              "1  M4BEast York(Parkview Hill / Woodbine Gardens)   \n",
              "2                  M4CEast York(Woodbine Heights)   \n",
              "3                    M4EEast Toronto(The Beaches)   \n",
              "4                           M4GEast York(Leaside)   \n",
              "\n",
              "                                                 4  \\\n",
              "0  M5ADowntown Toronto(Regent Park / Harbourfront)   \n",
              "1    M5BDowntown Toronto(Garden District, Ryerson)   \n",
              "2              M5CDowntown Toronto(St. James Town)   \n",
              "3                 M5EDowntown Toronto(Berczy Park)   \n",
              "4          M5GDowntown Toronto(Central Bay Street)   \n",
              "\n",
              "                                                  5  \\\n",
              "0  M6ANorth York(Lawrence Manor / Lawrence Heights)   \n",
              "1                          M6BNorth York(Glencairn)   \n",
              "2                       M6CYork(Humewood-Cedarvale)   \n",
              "3                      M6EYork(Caledonia-Fairbanks)   \n",
              "4                     M6GDowntown Toronto(Christie)   \n",
              "\n",
              "                                                6                7  \\\n",
              "0  M7AQueen's Park(Ontario Provincial Government)  M8ANot assigned   \n",
              "1                                 M7BNot assigned  M8BNot assigned   \n",
              "2                                 M7CNot assigned  M8CNot assigned   \n",
              "3                                 M7ENot assigned  M8ENot assigned   \n",
              "4                                 M7GNot assigned  M8GNot assigned   \n",
              "\n",
              "                                                   8  \n",
              "0                     M9AEtobicoke(Islington Avenue)  \n",
              "1  M9BEtobicoke(West Deane Park / Princess Garden...  \n",
              "2  M9CEtobicoke(Eringate / Bloordale Gardens / Ol...  \n",
              "3                                    M9ENot assigned  \n",
              "4                                    M9GNot assigned  "
            ]
          },
          "metadata": {
            "tags": []
          },
          "execution_count": 7
        }
      ]
    },
    {
      "cell_type": "markdown",
      "metadata": {
        "id": "shKXiKeZdAck"
      },
      "source": [
        "**Creating new table with names**"
      ]
    },
    {
      "cell_type": "code",
      "metadata": {
        "colab": {
          "base_uri": "https://localhost:8080/",
          "height": 49
        },
        "id": "V06nxRRrdFYU",
        "outputId": "ced0fcc8-ae2c-49fd-d8a2-038d174f1953"
      },
      "source": [
        "toronto = pd.DataFrame(columns={'PostalCode', 'Borough', 'Neighborhood'})\n",
        "toronto"
      ],
      "execution_count": 43,
      "outputs": [
        {
          "output_type": "execute_result",
          "data": {
            "text/html": [
              "<div>\n",
              "<style scoped>\n",
              "    .dataframe tbody tr th:only-of-type {\n",
              "        vertical-align: middle;\n",
              "    }\n",
              "\n",
              "    .dataframe tbody tr th {\n",
              "        vertical-align: top;\n",
              "    }\n",
              "\n",
              "    .dataframe thead th {\n",
              "        text-align: right;\n",
              "    }\n",
              "</style>\n",
              "<table border=\"1\" class=\"dataframe\">\n",
              "  <thead>\n",
              "    <tr style=\"text-align: right;\">\n",
              "      <th></th>\n",
              "      <th>Borough</th>\n",
              "      <th>PostalCode</th>\n",
              "      <th>Neighborhood</th>\n",
              "    </tr>\n",
              "  </thead>\n",
              "  <tbody>\n",
              "  </tbody>\n",
              "</table>\n",
              "</div>"
            ],
            "text/plain": [
              "Empty DataFrame\n",
              "Columns: [Borough, PostalCode, Neighborhood]\n",
              "Index: []"
            ]
          },
          "metadata": {
            "tags": []
          },
          "execution_count": 43
        }
      ]
    },
    {
      "cell_type": "markdown",
      "metadata": {
        "id": "_8RgXVthfDFE"
      },
      "source": [
        "**Adding values from wikipedia table**"
      ]
    },
    {
      "cell_type": "code",
      "metadata": {
        "colab": {
          "base_uri": "https://localhost:8080/",
          "height": 204
        },
        "id": "U4JTJbCZfHy0",
        "outputId": "1f336c60-23bd-4ef1-be01-8fbe802497b0"
      },
      "source": [
        "totalrows = wikipediaTable.shape[0]\n",
        "totalColumns = wikipediaTable.shape[1]\n",
        "\n",
        "\n",
        "for column in range(totalColumns):\n",
        "  for row in range(totalrows):\n",
        "    data = wikipediaTable.iloc[row,column]\n",
        "    postalCode = data[0:3]\n",
        "    rest = data[3:]\n",
        "    if rest != 'Not assigned':\n",
        "     ciudad = data[3:].split('(')[0]\n",
        "     neigh = data.split('(')[1].split(')')[0]\n",
        "     neigh = neigh.replace(\" /\", \",\")\n",
        "    \n",
        "\n",
        "     \n",
        "     toronto = toronto.append({'PostalCode':postalCode, 'Borough':ciudad, 'Neighborhood':neigh  }, ignore_index=True)\n",
        "\n",
        "toronto = toronto[['PostalCode','Borough',  'Neighborhood']]\n",
        "toronto.head()\n",
        "\n",
        " \n",
        " \n",
        " "
      ],
      "execution_count": 44,
      "outputs": [
        {
          "output_type": "execute_result",
          "data": {
            "text/html": [
              "<div>\n",
              "<style scoped>\n",
              "    .dataframe tbody tr th:only-of-type {\n",
              "        vertical-align: middle;\n",
              "    }\n",
              "\n",
              "    .dataframe tbody tr th {\n",
              "        vertical-align: top;\n",
              "    }\n",
              "\n",
              "    .dataframe thead th {\n",
              "        text-align: right;\n",
              "    }\n",
              "</style>\n",
              "<table border=\"1\" class=\"dataframe\">\n",
              "  <thead>\n",
              "    <tr style=\"text-align: right;\">\n",
              "      <th></th>\n",
              "      <th>PostalCode</th>\n",
              "      <th>Borough</th>\n",
              "      <th>Neighborhood</th>\n",
              "    </tr>\n",
              "  </thead>\n",
              "  <tbody>\n",
              "    <tr>\n",
              "      <th>0</th>\n",
              "      <td>M1B</td>\n",
              "      <td>Scarborough</td>\n",
              "      <td>Malvern, Rouge</td>\n",
              "    </tr>\n",
              "    <tr>\n",
              "      <th>1</th>\n",
              "      <td>M1C</td>\n",
              "      <td>Scarborough</td>\n",
              "      <td>Rouge Hill, Port Union, Highland Creek</td>\n",
              "    </tr>\n",
              "    <tr>\n",
              "      <th>2</th>\n",
              "      <td>M1E</td>\n",
              "      <td>Scarborough</td>\n",
              "      <td>Guildwood, Morningside, West Hill</td>\n",
              "    </tr>\n",
              "    <tr>\n",
              "      <th>3</th>\n",
              "      <td>M1G</td>\n",
              "      <td>Scarborough</td>\n",
              "      <td>Woburn</td>\n",
              "    </tr>\n",
              "    <tr>\n",
              "      <th>4</th>\n",
              "      <td>M1H</td>\n",
              "      <td>Scarborough</td>\n",
              "      <td>Cedarbrae</td>\n",
              "    </tr>\n",
              "  </tbody>\n",
              "</table>\n",
              "</div>"
            ],
            "text/plain": [
              "  PostalCode      Borough                            Neighborhood\n",
              "0        M1B  Scarborough                          Malvern, Rouge\n",
              "1        M1C  Scarborough  Rouge Hill, Port Union, Highland Creek\n",
              "2        M1E  Scarborough       Guildwood, Morningside, West Hill\n",
              "3        M1G  Scarborough                                  Woburn\n",
              "4        M1H  Scarborough                               Cedarbrae"
            ]
          },
          "metadata": {
            "tags": []
          },
          "execution_count": 44
        }
      ]
    },
    {
      "cell_type": "code",
      "metadata": {
        "colab": {
          "base_uri": "https://localhost:8080/"
        },
        "id": "_YBz_aOmtcK-",
        "outputId": "fcc29eb1-ca0f-4045-8123-5dba3217bc4a"
      },
      "source": [
        "toronto.shape"
      ],
      "execution_count": 46,
      "outputs": [
        {
          "output_type": "execute_result",
          "data": {
            "text/plain": [
              "(103, 3)"
            ]
          },
          "metadata": {
            "tags": []
          },
          "execution_count": 46
        }
      ]
    }
  ]
}